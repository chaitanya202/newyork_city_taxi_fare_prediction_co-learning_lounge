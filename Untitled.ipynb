{
 "cells": [
  {
   "cell_type": "code",
   "execution_count": 1,
   "metadata": {},
   "outputs": [],
   "source": [
    "import pandas as pd\n",
    "import numpy as np\n",
    "import matplotlib.pyplot as plt\n",
    "from sklearn.utils import resample\n",
    "hb = pd.read_csv(\"train.csv\")\n",
    "#Addding header row."
   ]
  },
  {
   "cell_type": "code",
   "execution_count": 2,
   "metadata": {},
   "outputs": [
    {
     "name": "stdout",
     "output_type": "stream",
     "text": [
      "                             key  fare_amount          pickup_datetime  \\\n",
      "0    2009-06-15 17:26:21.0000001          4.5  2009-06-15 17:26:21 UTC   \n",
      "1    2010-01-05 16:52:16.0000002         16.9  2010-01-05 16:52:16 UTC   \n",
      "2   2011-08-18 00:35:00.00000049          5.7  2011-08-18 00:35:00 UTC   \n",
      "3    2012-04-21 04:30:42.0000001          7.7  2012-04-21 04:30:42 UTC   \n",
      "4  2010-03-09 07:51:00.000000135          5.3  2010-03-09 07:51:00 UTC   \n",
      "\n",
      "   pickup_longitude  pickup_latitude  dropoff_longitude  dropoff_latitude  \\\n",
      "0        -73.844311        40.721319         -73.841610         40.712278   \n",
      "1        -74.016048        40.711303         -73.979268         40.782004   \n",
      "2        -73.982738        40.761270         -73.991242         40.750562   \n",
      "3        -73.987130        40.733143         -73.991567         40.758092   \n",
      "4        -73.968095        40.768008         -73.956655         40.783762   \n",
      "\n",
      "   passenger_count  \n",
      "0                1  \n",
      "1                1  \n",
      "2                2  \n",
      "3                1  \n",
      "4                1  \n"
     ]
    }
   ],
   "source": [
    "print(hb.head(5))"
   ]
  },
  {
   "cell_type": "code",
   "execution_count": 3,
   "metadata": {},
   "outputs": [
    {
     "name": "stdout",
     "output_type": "stream",
     "text": [
      "        fare_amount  pickup_longitude  pickup_latitude  dropoff_longitude  \\\n",
      "count  5.542386e+07      5.542386e+07     5.542386e+07       5.542348e+07   \n",
      "mean   1.134505e+01     -7.250968e+01     3.991979e+01      -7.251121e+01   \n",
      "std    2.071083e+01      1.284888e+01     9.642353e+00       1.278220e+01   \n",
      "min   -3.000000e+02     -3.442060e+03    -3.492264e+03      -3.442025e+03   \n",
      "25%    6.000000e+00     -7.399207e+01     4.073493e+01      -7.399140e+01   \n",
      "50%    8.500000e+00     -7.398180e+01     4.075265e+01      -7.398015e+01   \n",
      "75%    1.250000e+01     -7.396708e+01     4.076713e+01      -7.396367e+01   \n",
      "max    9.396336e+04      3.457626e+03     3.408790e+03       3.457622e+03   \n",
      "\n",
      "       dropoff_latitude  passenger_count  \n",
      "count      5.542348e+07     5.542386e+07  \n",
      "mean       3.992068e+01     1.685380e+00  \n",
      "std        9.633346e+00     1.327664e+00  \n",
      "min       -3.547887e+03     0.000000e+00  \n",
      "25%        4.073403e+01     1.000000e+00  \n",
      "50%        4.075316e+01     1.000000e+00  \n",
      "75%        4.076810e+01     2.000000e+00  \n",
      "max        3.537133e+03     2.080000e+02  \n"
     ]
    }
   ],
   "source": [
    "print(hb.describe())"
   ]
  },
  {
   "cell_type": "code",
   "execution_count": 4,
   "metadata": {},
   "outputs": [
    {
     "data": {
      "text/plain": [
       "key                   object\n",
       "fare_amount          float64\n",
       "pickup_datetime       object\n",
       "pickup_longitude     float64\n",
       "pickup_latitude      float64\n",
       "dropoff_longitude    float64\n",
       "dropoff_latitude     float64\n",
       "passenger_count        int64\n",
       "dtype: object"
      ]
     },
     "execution_count": 4,
     "metadata": {},
     "output_type": "execute_result"
    }
   ],
   "source": [
    "hb.dtypes"
   ]
  },
  {
   "cell_type": "code",
   "execution_count": 5,
   "metadata": {},
   "outputs": [
    {
     "name": "stdout",
     "output_type": "stream",
     "text": [
      "key                    0\n",
      "fare_amount            0\n",
      "pickup_datetime        0\n",
      "pickup_longitude       0\n",
      "pickup_latitude        0\n",
      "dropoff_longitude    376\n",
      "dropoff_latitude     376\n",
      "passenger_count        0\n",
      "dtype: int64\n",
      "key                    0\n",
      "fare_amount            0\n",
      "pickup_datetime        0\n",
      "pickup_longitude       0\n",
      "pickup_latitude        0\n",
      "dropoff_longitude    376\n",
      "dropoff_latitude     376\n",
      "passenger_count        0\n",
      "dtype: int64\n"
     ]
    }
   ],
   "source": [
    "print(hb.isnull().sum())\n",
    "hb.notnull() \n",
    "print(hb.isnull().sum())"
   ]
  },
  {
   "cell_type": "code",
   "execution_count": 6,
   "metadata": {},
   "outputs": [
    {
     "name": "stdout",
     "output_type": "stream",
     "text": [
      "1      38337524\n",
      "2       8175243\n",
      "5       3929346\n",
      "3       2432712\n",
      "4       1178852\n",
      "6       1174647\n",
      "0        195416\n",
      "208          64\n",
      "9            23\n",
      "7            15\n",
      "8             9\n",
      "129           2\n",
      "51            1\n",
      "49            1\n",
      "34            1\n",
      "Name: passenger_count, dtype: int64\n",
      "max fare 93963.36\n",
      "min fare -300.0\n"
     ]
    },
    {
     "data": {
      "text/plain": [
       "count    5.542386e+07\n",
       "mean     1.685380e+00\n",
       "std      1.327664e+00\n",
       "min      0.000000e+00\n",
       "25%      1.000000e+00\n",
       "50%      1.000000e+00\n",
       "75%      2.000000e+00\n",
       "max      2.080000e+02\n",
       "Name: passenger_count, dtype: float64"
      ]
     },
     "execution_count": 6,
     "metadata": {},
     "output_type": "execute_result"
    }
   ],
   "source": [
    "print(hb[\"passenger_count\"].value_counts())\n",
    "print(\"max fare\" , max(hb[\"fare_amount\"]))\n",
    "print(\"min fare\" , min(hb[\"fare_amount\"]))\n",
    "hb['fare_amount'].describe()\n",
    "hb['passenger_count'].describe()\n"
   ]
  },
  {
   "cell_type": "code",
   "execution_count": 7,
   "metadata": {},
   "outputs": [
    {
     "name": "stdout",
     "output_type": "stream",
     "text": [
      "\n",
      " PDF of passenger_count\n"
     ]
    },
    {
     "data": {
      "image/png": "[encoded data removed]",
      "text/plain": [
       "<Figure size 432x288 with 1 Axes>"
      ]
     },
     "metadata": {
      "needs_background": "light"
     },
     "output_type": "display_data"
    }
   ],
   "source": [
    "counts, bin_edges = np.histogram(hb[\"passenger_count\"], bins=10, \n",
    "                                 density = True)\n",
    "pdf = counts/(sum(counts))\n",
    "cdf = np.cumsum(pdf)\n",
    "print(\"\\n PDF of passenger_count\")\n",
    "plt.plot(bin_edges[1:], pdf)\n",
    "plt.show()\n",
    "\n"
   ]
  },
  {
   "cell_type": "code",
   "execution_count": 8,
   "metadata": {},
   "outputs": [
    {
     "name": "stdout",
     "output_type": "stream",
     "text": [
      "\n",
      " PDF of fare_amount\n"
     ]
    },
    {
     "data": {
      "image/png": "[encoded data removed]",
      "text/plain": [
       "<Figure size 432x288 with 1 Axes>"
      ]
     },
     "metadata": {
      "needs_background": "light"
     },
     "output_type": "display_data"
    }
   ],
   "source": [
    "counts_1, bin_edges_1 = np.histogram(hb[\"fare_amount\"], bins=10, \n",
    "                                 density = True)\n",
    "pdf_1 = counts_1/(sum(counts_1))\n",
    "cdf_1 = np.cumsum(pdf_1)\n",
    "print(\"\\n PDF of fare_amount\")\n",
    "plt.plot(bin_edges_1[1:], pdf_1)\n",
    "plt.show()"
   ]
  },
  {
   "cell_type": "code",
   "execution_count": 9,
   "metadata": {},
   "outputs": [
    {
     "data": {
      "image/png": "[encoded data removed]",
      "text/plain": [
       "<Figure size 1080x360 with 1 Axes>"
      ]
     },
     "metadata": {
      "needs_background": "light"
     },
     "output_type": "display_data"
    }
   ],
   "source": [
    "ax = hb['passenger_count'].hist(bins=30, figsize=(15,5))\n",
    "ax.set_yscale('log')\n",
    "ax.set_xlabel(\"passenger_count\")\n",
    "ax.set_ylabel(\"count\")\n",
    "plt.show()"
   ]
  },
  {
   "cell_type": "code",
   "execution_count": 10,
   "metadata": {},
   "outputs": [
    {
     "data": {
      "image/png": "[encoded data removed]",
      "text/plain": [
       "<Figure size 1080x360 with 1 Axes>"
      ]
     },
     "metadata": {
      "needs_background": "light"
     },
     "output_type": "display_data"
    }
   ],
   "source": [
    "ax = hb['fare_amount'].hist(bins=30, figsize=(15,5))\n",
    "ax.set_yscale('log')\n",
    "ax.set_xlabel(\"fare_amount\")\n",
    "ax.set_ylabel(\"count\")\n",
    "plt.show()"
   ]
  },
  {
   "cell_type": "code",
   "execution_count": 11,
   "metadata": {},
   "outputs": [
    {
     "data": {
      "image/png": "[encoded data removed]",
      "text/plain": [
       "<Figure size 1080x360 with 1 Axes>"
      ]
     },
     "metadata": {
      "needs_background": "light"
     },
     "output_type": "display_data"
    },
    {
     "data": {
      "image/png": "[encoded data removed]",
      "text/plain": [
       "<Figure size 1080x360 with 1 Axes>"
      ]
     },
     "metadata": {
      "needs_background": "light"
     },
     "output_type": "display_data"
    },
    {
     "data": {
      "image/png": "[encoded data removed]",
      "text/plain": [
       "<Figure size 1080x360 with 1 Axes>"
      ]
     },
     "metadata": {
      "needs_background": "light"
     },
     "output_type": "display_data"
    },
    {
     "data": {
      "image/png": "[encoded data removed]",
      "text/plain": [
       "<Figure size 1080x360 with 1 Axes>"
      ]
     },
     "metadata": {
      "needs_background": "light"
     },
     "output_type": "display_data"
    }
   ],
   "source": [
    "ax = hb['pickup_longitude'].hist(bins=30, figsize=(15,5))\n",
    "ax.set_yscale('log')\n",
    "ax.set_xlabel(\"pickup_longitude\")\n",
    "ax.set_ylabel(\"count\")\n",
    "plt.show()\n",
    "\n",
    "ax = hb['pickup_latitude'].hist(bins=30, figsize=(15,5))\n",
    "ax.set_yscale('log')\n",
    "ax.set_xlabel(\"pickup_latitude\")\n",
    "ax.set_ylabel(\"count\")\n",
    "plt.show()\n",
    "\n",
    "ax = hb['dropoff_longitude'].hist(bins=30, figsize=(15,5))\n",
    "ax.set_yscale('log')\n",
    "ax.set_xlabel(\"dropoff_longitude\")\n",
    "ax.set_ylabel(\"count\")\n",
    "plt.show()\n",
    "\n",
    "ax = hb['dropoff_latitude'].hist(bins=30, figsize=(15,5))\n",
    "ax.set_yscale('log')\n",
    "ax.set_xlabel(\"dropoff_latitude\")\n",
    "ax.set_ylabel(\"count\")\n",
    "plt.show()\n",
    "\n",
    "\n",
    "\n",
    "       "
   ]
  },
  {
   "cell_type": "code",
   "execution_count": null,
   "metadata": {},
   "outputs": [],
   "source": [
    "sb.boxplot(x='fare_amount',y='axil_nodes', data=hb)\n",
    "plt.show()\n",
    "\n",
    "sb.violinplot(x=\"Surv_status\", y=\"axil_nodes\", data=hb, size=8)\n",
    "plt.show()\n"
   ]
  },
  {
   "cell_type": "code",
   "execution_count": 13,
   "metadata": {},
   "outputs": [
    {
     "name": "stdout",
     "output_type": "stream",
     "text": [
      "                           key  fare_amount          pickup_datetime  \\\n",
      "0  2009-06-15 17:26:21.0000001          4.5  2009-06-15 17:26:21 UTC   \n",
      "1  2010-01-05 16:52:16.0000002         16.9  2010-01-05 16:52:16 UTC   \n",
      "\n",
      "   pickup_longitude  pickup_latitude  dropoff_longitude  dropoff_latitude  \\\n",
      "0        -73.844311        40.721319         -73.841610         40.712278   \n",
      "1        -74.016048        40.711303         -73.979268         40.782004   \n",
      "\n",
      "   passenger_count  \n",
      "0                1  \n",
      "1                1  \n"
     ]
    }
   ],
   "source": [
    "print(hb.head(2))"
   ]
  },
  {
   "cell_type": "code",
   "execution_count": 22,
   "metadata": {},
   "outputs": [
    {
     "ename": "ValueError",
     "evalue": "could not convert string to float: '2009-06-15 17:26:21.0000001'",
     "output_type": "error",
     "traceback": [
      "\u001b[1;31m---------------------------------------------------------------------------\u001b[0m",
      "\u001b[1;31mValueError\u001b[0m                                Traceback (most recent call last)",
      "\u001b[1;32m<ipython-input-22-6a21befa2718>\u001b[0m in \u001b[0;36m<module>\u001b[1;34m\u001b[0m\n\u001b[0;32m     13\u001b[0m \u001b[0mscaler\u001b[0m \u001b[1;33m=\u001b[0m \u001b[0mStandardScaler\u001b[0m\u001b[1;33m(\u001b[0m\u001b[1;33m)\u001b[0m\u001b[1;33m\u001b[0m\u001b[0m\n\u001b[0;32m     14\u001b[0m \u001b[0mdfObj\u001b[0m \u001b[1;33m=\u001b[0m \u001b[0mpd\u001b[0m\u001b[1;33m.\u001b[0m\u001b[0mDataFrame\u001b[0m\u001b[1;33m(\u001b[0m\u001b[1;33m)\u001b[0m\u001b[1;33m\u001b[0m\u001b[0m\n\u001b[1;32m---> 15\u001b[1;33m \u001b[0mdfObj\u001b[0m \u001b[1;33m=\u001b[0m \u001b[0mscaler\u001b[0m\u001b[1;33m.\u001b[0m\u001b[0mfit_transform\u001b[0m\u001b[1;33m(\u001b[0m\u001b[0mhb\u001b[0m\u001b[1;33m)\u001b[0m\u001b[1;33m\u001b[0m\u001b[0m\n\u001b[0m\u001b[0;32m     16\u001b[0m \u001b[1;31m#dropoff_longitude_data = scaler.fit_transform(dropoff_longitude)\u001b[0m\u001b[1;33m\u001b[0m\u001b[1;33m\u001b[0m\u001b[0m\n\u001b[0;32m     17\u001b[0m \u001b[1;31m#dfObj = pd.DataFrame()\u001b[0m\u001b[1;33m\u001b[0m\u001b[1;33m\u001b[0m\u001b[0m\n",
      "\u001b[1;32mc:\\users\\cbhimavarapu\\appdata\\local\\programs\\python\\python36\\lib\\site-packages\\sklearn\\base.py\u001b[0m in \u001b[0;36mfit_transform\u001b[1;34m(self, X, y, **fit_params)\u001b[0m\n\u001b[0;32m    460\u001b[0m         \u001b[1;32mif\u001b[0m \u001b[0my\u001b[0m \u001b[1;32mis\u001b[0m \u001b[1;32mNone\u001b[0m\u001b[1;33m:\u001b[0m\u001b[1;33m\u001b[0m\u001b[0m\n\u001b[0;32m    461\u001b[0m             \u001b[1;31m# fit method of arity 1 (unsupervised transformation)\u001b[0m\u001b[1;33m\u001b[0m\u001b[1;33m\u001b[0m\u001b[0m\n\u001b[1;32m--> 462\u001b[1;33m             \u001b[1;32mreturn\u001b[0m \u001b[0mself\u001b[0m\u001b[1;33m.\u001b[0m\u001b[0mfit\u001b[0m\u001b[1;33m(\u001b[0m\u001b[0mX\u001b[0m\u001b[1;33m,\u001b[0m \u001b[1;33m**\u001b[0m\u001b[0mfit_params\u001b[0m\u001b[1;33m)\u001b[0m\u001b[1;33m.\u001b[0m\u001b[0mtransform\u001b[0m\u001b[1;33m(\u001b[0m\u001b[0mX\u001b[0m\u001b[1;33m)\u001b[0m\u001b[1;33m\u001b[0m\u001b[0m\n\u001b[0m\u001b[0;32m    463\u001b[0m         \u001b[1;32melse\u001b[0m\u001b[1;33m:\u001b[0m\u001b[1;33m\u001b[0m\u001b[0m\n\u001b[0;32m    464\u001b[0m             \u001b[1;31m# fit method of arity 2 (supervised transformation)\u001b[0m\u001b[1;33m\u001b[0m\u001b[1;33m\u001b[0m\u001b[0m\n",
      "\u001b[1;32mc:\\users\\cbhimavarapu\\appdata\\local\\programs\\python\\python36\\lib\\site-packages\\sklearn\\preprocessing\\data.py\u001b[0m in \u001b[0;36mfit\u001b[1;34m(self, X, y)\u001b[0m\n\u001b[0;32m    623\u001b[0m         \u001b[1;31m# Reset internal state before fitting\u001b[0m\u001b[1;33m\u001b[0m\u001b[1;33m\u001b[0m\u001b[0m\n\u001b[0;32m    624\u001b[0m         \u001b[0mself\u001b[0m\u001b[1;33m.\u001b[0m\u001b[0m_reset\u001b[0m\u001b[1;33m(\u001b[0m\u001b[1;33m)\u001b[0m\u001b[1;33m\u001b[0m\u001b[0m\n\u001b[1;32m--> 625\u001b[1;33m         \u001b[1;32mreturn\u001b[0m \u001b[0mself\u001b[0m\u001b[1;33m.\u001b[0m\u001b[0mpartial_fit\u001b[0m\u001b[1;33m(\u001b[0m\u001b[0mX\u001b[0m\u001b[1;33m,\u001b[0m \u001b[0my\u001b[0m\u001b[1;33m)\u001b[0m\u001b[1;33m\u001b[0m\u001b[0m\n\u001b[0m\u001b[0;32m    626\u001b[0m \u001b[1;33m\u001b[0m\u001b[0m\n\u001b[0;32m    627\u001b[0m     \u001b[1;32mdef\u001b[0m \u001b[0mpartial_fit\u001b[0m\u001b[1;33m(\u001b[0m\u001b[0mself\u001b[0m\u001b[1;33m,\u001b[0m \u001b[0mX\u001b[0m\u001b[1;33m,\u001b[0m \u001b[0my\u001b[0m\u001b[1;33m=\u001b[0m\u001b[1;32mNone\u001b[0m\u001b[1;33m)\u001b[0m\u001b[1;33m:\u001b[0m\u001b[1;33m\u001b[0m\u001b[0m\n",
      "\u001b[1;32mc:\\users\\cbhimavarapu\\appdata\\local\\programs\\python\\python36\\lib\\site-packages\\sklearn\\preprocessing\\data.py\u001b[0m in \u001b[0;36mpartial_fit\u001b[1;34m(self, X, y)\u001b[0m\n\u001b[0;32m    647\u001b[0m         X = check_array(X, accept_sparse=('csr', 'csc'), copy=self.copy,\n\u001b[0;32m    648\u001b[0m                         \u001b[0mwarn_on_dtype\u001b[0m\u001b[1;33m=\u001b[0m\u001b[1;32mTrue\u001b[0m\u001b[1;33m,\u001b[0m \u001b[0mestimator\u001b[0m\u001b[1;33m=\u001b[0m\u001b[0mself\u001b[0m\u001b[1;33m,\u001b[0m \u001b[0mdtype\u001b[0m\u001b[1;33m=\u001b[0m\u001b[0mFLOAT_DTYPES\u001b[0m\u001b[1;33m,\u001b[0m\u001b[1;33m\u001b[0m\u001b[0m\n\u001b[1;32m--> 649\u001b[1;33m                         force_all_finite='allow-nan')\n\u001b[0m\u001b[0;32m    650\u001b[0m \u001b[1;33m\u001b[0m\u001b[0m\n\u001b[0;32m    651\u001b[0m         \u001b[1;31m# Even in the case of `with_mean=False`, we update the mean anyway\u001b[0m\u001b[1;33m\u001b[0m\u001b[1;33m\u001b[0m\u001b[0m\n",
      "\u001b[1;32mc:\\users\\cbhimavarapu\\appdata\\local\\programs\\python\\python36\\lib\\site-packages\\sklearn\\utils\\validation.py\u001b[0m in \u001b[0;36mcheck_array\u001b[1;34m(array, accept_sparse, accept_large_sparse, dtype, order, copy, force_all_finite, ensure_2d, allow_nd, ensure_min_samples, ensure_min_features, warn_on_dtype, estimator)\u001b[0m\n\u001b[0;32m    525\u001b[0m             \u001b[1;32mtry\u001b[0m\u001b[1;33m:\u001b[0m\u001b[1;33m\u001b[0m\u001b[0m\n\u001b[0;32m    526\u001b[0m                 \u001b[0mwarnings\u001b[0m\u001b[1;33m.\u001b[0m\u001b[0msimplefilter\u001b[0m\u001b[1;33m(\u001b[0m\u001b[1;34m'error'\u001b[0m\u001b[1;33m,\u001b[0m \u001b[0mComplexWarning\u001b[0m\u001b[1;33m)\u001b[0m\u001b[1;33m\u001b[0m\u001b[0m\n\u001b[1;32m--> 527\u001b[1;33m                 \u001b[0marray\u001b[0m \u001b[1;33m=\u001b[0m \u001b[0mnp\u001b[0m\u001b[1;33m.\u001b[0m\u001b[0masarray\u001b[0m\u001b[1;33m(\u001b[0m\u001b[0marray\u001b[0m\u001b[1;33m,\u001b[0m \u001b[0mdtype\u001b[0m\u001b[1;33m=\u001b[0m\u001b[0mdtype\u001b[0m\u001b[1;33m,\u001b[0m \u001b[0morder\u001b[0m\u001b[1;33m=\u001b[0m\u001b[0morder\u001b[0m\u001b[1;33m)\u001b[0m\u001b[1;33m\u001b[0m\u001b[0m\n\u001b[0m\u001b[0;32m    528\u001b[0m             \u001b[1;32mexcept\u001b[0m \u001b[0mComplexWarning\u001b[0m\u001b[1;33m:\u001b[0m\u001b[1;33m\u001b[0m\u001b[0m\n\u001b[0;32m    529\u001b[0m                 raise ValueError(\"Complex data not supported\\n\"\n",
      "\u001b[1;32m~\\AppData\\Roaming\\Python\\Python36\\site-packages\\numpy\\core\\numeric.py\u001b[0m in \u001b[0;36masarray\u001b[1;34m(a, dtype, order)\u001b[0m\n\u001b[0;32m    536\u001b[0m \u001b[1;33m\u001b[0m\u001b[0m\n\u001b[0;32m    537\u001b[0m     \"\"\"\n\u001b[1;32m--> 538\u001b[1;33m     \u001b[1;32mreturn\u001b[0m \u001b[0marray\u001b[0m\u001b[1;33m(\u001b[0m\u001b[0ma\u001b[0m\u001b[1;33m,\u001b[0m \u001b[0mdtype\u001b[0m\u001b[1;33m,\u001b[0m \u001b[0mcopy\u001b[0m\u001b[1;33m=\u001b[0m\u001b[1;32mFalse\u001b[0m\u001b[1;33m,\u001b[0m \u001b[0morder\u001b[0m\u001b[1;33m=\u001b[0m\u001b[0morder\u001b[0m\u001b[1;33m)\u001b[0m\u001b[1;33m\u001b[0m\u001b[0m\n\u001b[0m\u001b[0;32m    539\u001b[0m \u001b[1;33m\u001b[0m\u001b[0m\n\u001b[0;32m    540\u001b[0m \u001b[1;33m\u001b[0m\u001b[0m\n",
      "\u001b[1;31mValueError\u001b[0m: could not convert string to float: '2009-06-15 17:26:21.0000001'"
     ]
    }
   ],
   "source": [
    "#Bivariate Analyses:\n",
    "from sklearn.preprocessing import StandardScaler\n",
    "import numpy as np\n",
    "\n",
    "import numpy as np\n",
    "import seaborn as sb\n",
    "import warnings\n",
    "warnings.filterwarnings(\"ignore\")\n",
    "scaler = StandardScaler()\n",
    "dfObj = pd.DataFrame()\n",
    "dfObj = scaler.fit_transform(hb)\n",
    "#dropoff_longitude_data = scaler.fit_transform(dropoff_longitude)\n",
    "#dfObj = pd.DataFrame()\n",
    "#dfObj['fare_amount'] = hb['fare_amount']\n",
    "#dfObj['pickup_longitude'] = hb['pickup_longitude']\n",
    "#dfObj['dropoff_longitude'] = hb['dropoff_longitude']\n",
    "#Total = (hb[\"axil_nodes\"] > 0)\n",
    "#non_zero_hb = hb[Total]\n",
    "sb.FacetGrid(dfObj[5000:5000], hue=\"fare_amount\", size=10,) \\\n",
    "   .map(sb.distplot, \"pickup_longitude\",\"dropoff_longitude\") \\\n",
    "   .add_legend();\n",
    "\n",
    "plt.grid();\n",
    "plt.show();\n",
    "plt.close();\n"
   ]
  },
  {
   "cell_type": "code",
   "execution_count": null,
   "metadata": {},
   "outputs": [],
   "source": [
    "#Bivariate Analyses:\n",
    "import numpy as np\n",
    "import seaborn as sb\n",
    "import warnings\n",
    "warnings.filterwarnings(\"ignore\")\n",
    "dfObjj = pd.DataFrame()\n",
    "\n",
    "dfObjj = scaler.fit_transform(hb)\n",
    "#Total = (hb[\"axil_nodes\"] > 0)\n",
    "#non_zero_hb = hb[Total]\n",
    "sb.FacetGrid(objj, hue=\"fare_amount\", size=5,) \\\n",
    "   .map(sb.distplot, \"pickup_latitude\",\"pickup_longitude\") \\\n",
    "   .add_legend();\n",
    "\n",
    "plt.grid();\n",
    "plt.show();\n",
    "plt.close();\n"
   ]
  },
  {
   "cell_type": "code",
   "execution_count": null,
   "metadata": {},
   "outputs": [],
   "source": []
  },
  {
   "cell_type": "code",
   "execution_count": null,
   "metadata": {},
   "outputs": [],
   "source": []
  },
  {
   "cell_type": "code",
   "execution_count": null,
   "metadata": {},
   "outputs": [],
   "source": []
  },
  {
   "cell_type": "code",
   "execution_count": null,
   "metadata": {},
   "outputs": [],
   "source": []
  },
  {
   "cell_type": "code",
   "execution_count": null,
   "metadata": {},
   "outputs": [],
   "source": []
  },
  {
   "cell_type": "code",
   "execution_count": null,
   "metadata": {},
   "outputs": [],
   "source": []
  },
  {
   "cell_type": "code",
   "execution_count": null,
   "metadata": {},
   "outputs": [],
   "source": []
  },
  {
   "cell_type": "code",
   "execution_count": null,
   "metadata": {},
   "outputs": [],
   "source": [
    "def distance(lat1, lon1, lat2, lon2):\n",
    "    p = 0.017453292519943295 # Pi/180\n",
    "    a = 0.5 - np.cos((lat2 - lat1) * p)/2 + np.cos(lat1 * p) * np.cos(lat2 * p) * (1 - np.cos((lon2 - lon1) * p)) / 2\n",
    "    return 0.6213712 * 12742 * np.arcsin(np.sqrt(a)) # 2*R*asin..."
   ]
  },
  {
   "cell_type": "code",
   "execution_count": null,
   "metadata": {},
   "outputs": [],
   "source": [
    "dist = []\n",
    "for row in hb:\n",
    "    dist.append"
   ]
  },
  {
   "cell_type": "code",
   "execution_count": 91,
   "metadata": {},
   "outputs": [],
   "source": [
    "import pandas as pd\n",
    "keys =[]\n",
    "year = []\n",
    "month = []\n",
    "day = []\n",
    "hr = []\n",
    "mint = []\n",
    "sec = [] \n",
    "del Data"
   ]
  },
  {
   "cell_type": "code",
   "execution_count": 92,
   "metadata": {},
   "outputs": [
    {
     "name": "stdout",
     "output_type": "stream",
     "text": [
      "55423856\n",
      "55423856\n",
      "55423856\n",
      "55423856\n",
      "55423856\n",
      "55423856\n"
     ]
    }
   ],
   "source": [
    "\n",
    "for key in hb['key']:\n",
    "    year.append(key[0:4])\n",
    "    month.append(key[5:7])\n",
    "    day.append(key[8:10])\n",
    "    hr.append(key[11:13])\n",
    "    mint.append(key[14:16])\n",
    "    sec.append(key[17:-1])\n",
    "print(len(month))\n",
    "print(len(year))\n",
    "print(len(day))\n",
    "print(len(hr))\n",
    "print(len(mint))\n",
    "print(len(sec))\n"
   ]
  },
  {
   "cell_type": "code",
   "execution_count": 93,
   "metadata": {},
   "outputs": [
    {
     "name": "stdout",
     "output_type": "stream",
     "text": [
      "(55423856, 1)\n",
      "(55423856, 2)\n",
      "(55423856, 3)\n",
      "(55423856, 4)\n",
      "(55423856, 5)\n",
      "(55423856, 6)\n",
      "(55423856, 7)\n"
     ]
    }
   ],
   "source": [
    "Data =pd.DataFrame(year,columns=['year'])\n",
    "print(Data.shape)\n",
    "Data['month'] = month\n",
    "print(Data.shape)\n",
    "Data['day'] = day\n",
    "print(Data.shape)\n",
    "Data['hr'] = hr\n",
    "print(Data.shape)\n",
    "Data['mint'] = mint\n",
    "print(Data.shape)\n",
    "Data['sec'] = sec\n",
    "print(Data.shape)\n",
    "Data['y'] = hb['fare_amount']\n",
    "print(Data.shape)"
   ]
  },
  {
   "cell_type": "code",
   "execution_count": 94,
   "metadata": {},
   "outputs": [
    {
     "name": "stdout",
     "output_type": "stream",
     "text": [
      "          year month day  hr mint          sec      y\n",
      "0         2009    06  15  17   26    21.000000   4.50\n",
      "1         2010    01  05  16   52    16.000000  16.90\n",
      "2         2011    08  18  00   35   00.0000004   5.70\n",
      "3         2012    04  21  04   30    42.000000   7.70\n",
      "4         2010    03  09  07   51  00.00000013   5.30\n",
      "5         2011    01  06  09   50    45.000000  12.10\n",
      "6         2012    11  20  20   35    00.000000   7.50\n",
      "7         2012    01  04  17   22   00.0000008  16.50\n",
      "8         2012    12  03  13   10  00.00000012   9.00\n",
      "9         2009    09  02  01   11   00.0000008   8.90\n",
      "10        2012    04  08  07   30    50.000000   5.30\n",
      "11        2012    12  24  11   24   00.0000009   5.50\n",
      "12        2009    11  06  01   04    03.000000   4.10\n",
      "13        2013    07  02  19   54  00.00000023   7.00\n",
      "14        2011    04  05  17   11    05.000000   7.70\n",
      "15        2013    11  23  12   57  00.00000019   5.00\n",
      "16        2014    02  19  07   22   00.0000007  12.50\n",
      "17        2009    07  22  16   08  00.00000016   5.30\n",
      "18        2010    07  07  14   52   00.0000004   5.30\n",
      "19        2014    12  06  20   36    22.000000   4.00\n",
      "20        2010    09  07  13   18  00.00000017  10.50\n",
      "21        2013    02  12  12   15    46.000000  11.50\n",
      "22        2009    08  06  18   17    23.000000   4.50\n",
      "23        2010    12  06  12   29  00.00000019   4.90\n",
      "24        2009    12  10  15   37   00.0000002   6.10\n",
      "25        2011    06  21  16   15   00.0000007   7.30\n",
      "26        2011    02  07  20   01  00.00000011   6.50\n",
      "27        2011    06  28  19   47  00.00000016   4.50\n",
      "28        2012    05  04  06   11    20.000000   9.30\n",
      "29        2013    08  11  00   52   00.0000002   4.50\n",
      "...        ...   ...  ..  ..  ...          ...    ...\n",
      "55423826  2009    09  13  19   00    32.000000  16.90\n",
      "55423827  2011    04  23  19   22    50.000000   8.50\n",
      "55423828  2011    09  15  00   39    09.000000  45.00\n",
      "55423829  2013    07  20  13   31   00.0000003   5.50\n",
      "55423830  2012    10  13  22   17    09.000000   4.50\n",
      "55423831  2014    04  29  00   47    35.000000   4.50\n",
      "55423832  2009    08  27  18   39   00.0000006  11.30\n",
      "55423833  2015    05  17  00   27    40.000000   5.00\n",
      "55423834  2010    11  15  07   12    35.000000   5.70\n",
      "55423835  2014    07  31  09   06    06.000000  30.33\n",
      "55423836  2009    02  03  00   28    08.000000  10.20\n",
      "55423837  2010    08  10  11   19    42.000000  10.50\n",
      "55423838  2011    02  09  10   07   00.0000008  13.30\n",
      "55423839  2012    03  15  07   33    35.000000   8.10\n",
      "55423840  2013    06  21  17   30   00.0000002   8.00\n",
      "55423841  2014    05  02  07   36    20.000000   6.50\n",
      "55423842  2014    09  22  09   00   00.0000001  16.50\n",
      "55423843  2015    04  30  19   25    05.000000   6.50\n",
      "55423844  2015    06  13  20   45    19.000000  18.00\n",
      "55423845  2009    06  03  20   16    35.000000   5.30\n",
      "55423846  2010    05  28  07   49    50.000000  11.70\n",
      "55423847  2011    09  16  00   46    43.000000   6.10\n",
      "55423848  2013    05  24  00   13    36.000000   6.00\n",
      "55423849  2014    03  04  22   25    01.000000  12.00\n",
      "55423850  2015    03  22  16   37    27.000000   4.50\n",
      "55423851  2014    03  15  03   28   00.0000007  14.00\n",
      "55423852  2009    03  24  20   46    20.000000   4.20\n",
      "55423853  2011    04  02  22   04    24.000000  14.10\n",
      "55423854  2011    10  26  05   57    51.000000  28.90\n",
      "55423855  2014    12  12  11   33   00.0000001   7.50\n",
      "\n",
      "[55423856 rows x 7 columns]\n"
     ]
    }
   ],
   "source": [
    "print(Data)"
   ]
  },
  {
   "cell_type": "code",
   "execution_count": 95,
   "metadata": {},
   "outputs": [],
   "source": [
    "Data.to_csv('file1.csv')"
   ]
  },
  {
   "cell_type": "code",
   "execution_count": null,
   "metadata": {},
   "outputs": [],
   "source": []
  }
 ],
 "metadata": {
  "kernelspec": {
   "display_name": "Python 3",
   "language": "python",
   "name": "python3"
  },
  "language_info": {
   "codemirror_mode": {
    "name": "ipython",
    "version": 3
   },
   "file_extension": ".py",
   "mimetype": "text/x-python",
   "name": "python",
   "nbconvert_exporter": "python",
   "pygments_lexer": "ipython3",
   "version": "3.6.3rc1"
  }
 },
 "nbformat": 4,
 "nbformat_minor": 2
}
